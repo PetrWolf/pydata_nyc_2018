{
 "cells": [
  {
   "cell_type": "markdown",
   "metadata": {},
   "source": [
    "# Using dask for large systems of financial models\n",
    "## Basic Example\n",
    "\n",
    "Petr Wolf, Dhivya Shankaranarayan\n",
    "\n",
    "This notebook illustrates the concepts presented in \"[Using dask for large systems of financial models](https://pydata.org/nyc2018/schedule/presentation/16/)\" talk from [PyData NYC 2018](https://pydata.org/nyc2018).\n",
    "\n",
    "Source location:\n",
    "* [Notebook](https://github.com/PetrWolf/pydata_nyc_2018)\n",
    "* [Slides](https://www.slideshare.net/PetrWolf1/using-dask-for-large-systems-of-financial-models)"
   ]
  },
  {
   "cell_type": "markdown",
   "metadata": {},
   "source": [
    "## Installation\n",
    "To run this notebook, you need Python 3.6, IPython, cytoolz dask and graphviz.\n",
    "\n",
    "Use conda to install them all:\n",
    "\n",
    "```\n",
    "conda env create -p <target/env/location> --file example.yaml\n",
    "```"
   ]
  },
  {
   "cell_type": "markdown",
   "metadata": {},
   "source": [
    "## Disclaimer\n",
    "Note that this notebook serves only as an example to demonstrate the main idea of the presentation. \n",
    "\n",
    "Many details needed for a real implementation (e.g. checks, validation, multiple outputs) are deliberately not covered."
   ]
  },
  {
   "cell_type": "code",
   "execution_count": 1,
   "metadata": {
    "collapsed": true
   },
   "outputs": [],
   "source": [
    "import functools\n",
    "from cytoolz import dicttoolz\n",
    "from IPython.display import display\n",
    "import dask"
   ]
  },
  {
   "cell_type": "markdown",
   "metadata": {},
   "source": [
    "## Defining functions\n",
    "Definition of a @model decorator as a syntax extension for easier development and maintenance.\n",
    "\n",
    "This decorator lets model developers annotate their functions with references to a global catalogue of all data, so that\n",
    "automatic connections between models can be established."
   ]
  },
  {
   "cell_type": "code",
   "execution_count": 2,
   "metadata": {
    "collapsed": true
   },
   "outputs": [],
   "source": [
    "def model(output, **inputs):\n",
    "    \"\"\"Decorator for annotating functions with input and output data labels.\n",
    "    \n",
    "    It wraps the underlying function and adds the following properties to the wrapper object:\n",
    "        dsk - a dask graph representing the function's dependencies\n",
    "        _repr_csv_ - to support visualization in Jupyter\n",
    "    \n",
    "    Args:\n",
    "        inputs: data labels for input arguments\n",
    "        output: data label for return value    \n",
    "    \"\"\"\n",
    "    def model_decorator(f):\n",
    "        @functools.wraps(f)\n",
    "        def wrapper(*args, **kwds):\n",
    "            return f(*args, **kwds)\n",
    "        \n",
    "        # Define the dask graph using Dask Custom Graph API notation.\n",
    "        # Use None as the value of input nodes (so that they can be used in connections later)\n",
    "        #\n",
    "        # See Also\n",
    "        # * http://docs.dask.org/en/latest/custom-graphs.html\n",
    "        dsk = {\n",
    "            output: (f, ) + tuple(inputs.values())\n",
    "        }\n",
    "        dsk.update({\n",
    "            key: None for key in inputs.values()\n",
    "        })\n",
    "        wrapper.dsk = dsk\n",
    "        \n",
    "        # Add _repr_svg_ for visualization in Jupyter\n",
    "        #\n",
    "        # See Also:\n",
    "        # * http://docs.dask.org/en/latest/graphviz.html\n",
    "        # * https://ipython.readthedocs.io/en/stable/config/integrating.html\n",
    "        wrapper._repr_svg_ = lambda : display(dask.visualize(dsk, rankdir='LR'))\n",
    "        return wrapper\n",
    "    \n",
    "    return model_decorator"
   ]
  },
  {
   "cell_type": "markdown",
   "metadata": {},
   "source": [
    "Now let's use `@model` in a simple example.\n",
    "\n",
    "Both 'FOO' and 'BAR' are assummed to be globally defined data labels with a well-defined meaning, type and unit."
   ]
  },
  {
   "cell_type": "code",
   "execution_count": 3,
   "metadata": {
    "collapsed": true
   },
   "outputs": [],
   "source": [
    "@model(foo='FOO', output='BAR')\n",
    "def my_model(foo):\n",
    "    \"\"\"A sample model.\n",
    "    Computes the value of 'FOO' based on 'BAR'.\n",
    "    \n",
    "    Args:\n",
    "        foo: value of 'FOO'\n",
    "    \n",
    "    Returns:\n",
    "        value of 'BAR'\n",
    "    \"\"\"\n",
    "    return foo + 1"
   ]
  },
  {
   "cell_type": "code",
   "execution_count": 4,
   "metadata": {},
   "outputs": [
    {
     "ename": "RuntimeError",
     "evalue": "Drawing dask graphs requires the `graphviz` python library and the `graphviz` system library to be installed.",
     "output_type": "error",
     "traceback": [
      "\u001b[1;31m---------------------------------------------------------------------------\u001b[0m",
      "\u001b[1;31mModuleNotFoundError\u001b[0m                       Traceback (most recent call last)",
      "\u001b[1;32m~\\Anaconda3\\lib\\site-packages\\dask\\utils.py\u001b[0m in \u001b[0;36mimport_required\u001b[1;34m(mod_name, error_msg)\u001b[0m\n\u001b[0;32m     92\u001b[0m     \u001b[1;32mtry\u001b[0m\u001b[1;33m:\u001b[0m\u001b[1;33m\u001b[0m\u001b[0m\n\u001b[1;32m---> 93\u001b[1;33m         \u001b[1;32mreturn\u001b[0m \u001b[0mimport_module\u001b[0m\u001b[1;33m(\u001b[0m\u001b[0mmod_name\u001b[0m\u001b[1;33m)\u001b[0m\u001b[1;33m\u001b[0m\u001b[0m\n\u001b[0m\u001b[0;32m     94\u001b[0m     \u001b[1;32mexcept\u001b[0m \u001b[0mImportError\u001b[0m\u001b[1;33m:\u001b[0m\u001b[1;33m\u001b[0m\u001b[0m\n",
      "\u001b[1;32m~\\Anaconda3\\lib\\importlib\\__init__.py\u001b[0m in \u001b[0;36mimport_module\u001b[1;34m(name, package)\u001b[0m\n\u001b[0;32m    125\u001b[0m             \u001b[0mlevel\u001b[0m \u001b[1;33m+=\u001b[0m \u001b[1;36m1\u001b[0m\u001b[1;33m\u001b[0m\u001b[0m\n\u001b[1;32m--> 126\u001b[1;33m     \u001b[1;32mreturn\u001b[0m \u001b[0m_bootstrap\u001b[0m\u001b[1;33m.\u001b[0m\u001b[0m_gcd_import\u001b[0m\u001b[1;33m(\u001b[0m\u001b[0mname\u001b[0m\u001b[1;33m[\u001b[0m\u001b[0mlevel\u001b[0m\u001b[1;33m:\u001b[0m\u001b[1;33m]\u001b[0m\u001b[1;33m,\u001b[0m \u001b[0mpackage\u001b[0m\u001b[1;33m,\u001b[0m \u001b[0mlevel\u001b[0m\u001b[1;33m)\u001b[0m\u001b[1;33m\u001b[0m\u001b[0m\n\u001b[0m\u001b[0;32m    127\u001b[0m \u001b[1;33m\u001b[0m\u001b[0m\n",
      "\u001b[1;32m~\\Anaconda3\\lib\\importlib\\_bootstrap.py\u001b[0m in \u001b[0;36m_gcd_import\u001b[1;34m(name, package, level)\u001b[0m\n",
      "\u001b[1;32m~\\Anaconda3\\lib\\importlib\\_bootstrap.py\u001b[0m in \u001b[0;36m_find_and_load\u001b[1;34m(name, import_)\u001b[0m\n",
      "\u001b[1;32m~\\Anaconda3\\lib\\importlib\\_bootstrap.py\u001b[0m in \u001b[0;36m_find_and_load_unlocked\u001b[1;34m(name, import_)\u001b[0m\n",
      "\u001b[1;31mModuleNotFoundError\u001b[0m: No module named 'graphviz'",
      "\nDuring handling of the above exception, another exception occurred:\n",
      "\u001b[1;31mRuntimeError\u001b[0m                              Traceback (most recent call last)",
      "\u001b[1;32m~\\Anaconda3\\lib\\site-packages\\IPython\\core\\formatters.py\u001b[0m in \u001b[0;36m__call__\u001b[1;34m(self, obj)\u001b[0m\n\u001b[0;32m    334\u001b[0m             \u001b[0mmethod\u001b[0m \u001b[1;33m=\u001b[0m \u001b[0mget_real_method\u001b[0m\u001b[1;33m(\u001b[0m\u001b[0mobj\u001b[0m\u001b[1;33m,\u001b[0m \u001b[0mself\u001b[0m\u001b[1;33m.\u001b[0m\u001b[0mprint_method\u001b[0m\u001b[1;33m)\u001b[0m\u001b[1;33m\u001b[0m\u001b[0m\n\u001b[0;32m    335\u001b[0m             \u001b[1;32mif\u001b[0m \u001b[0mmethod\u001b[0m \u001b[1;32mis\u001b[0m \u001b[1;32mnot\u001b[0m \u001b[1;32mNone\u001b[0m\u001b[1;33m:\u001b[0m\u001b[1;33m\u001b[0m\u001b[0m\n\u001b[1;32m--> 336\u001b[1;33m                 \u001b[1;32mreturn\u001b[0m \u001b[0mmethod\u001b[0m\u001b[1;33m(\u001b[0m\u001b[1;33m)\u001b[0m\u001b[1;33m\u001b[0m\u001b[0m\n\u001b[0m\u001b[0;32m    337\u001b[0m             \u001b[1;32mreturn\u001b[0m \u001b[1;32mNone\u001b[0m\u001b[1;33m\u001b[0m\u001b[0m\n\u001b[0;32m    338\u001b[0m         \u001b[1;32melse\u001b[0m\u001b[1;33m:\u001b[0m\u001b[1;33m\u001b[0m\u001b[0m\n",
      "\u001b[1;32m<ipython-input-2-fd1cc81f6300>\u001b[0m in \u001b[0;36m<lambda>\u001b[1;34m()\u001b[0m\n\u001b[0;32m     33\u001b[0m         \u001b[1;31m# * http://docs.dask.org/en/latest/graphviz.html\u001b[0m\u001b[1;33m\u001b[0m\u001b[1;33m\u001b[0m\u001b[0m\n\u001b[0;32m     34\u001b[0m         \u001b[1;31m# * https://ipython.readthedocs.io/en/stable/config/integrating.html\u001b[0m\u001b[1;33m\u001b[0m\u001b[1;33m\u001b[0m\u001b[0m\n\u001b[1;32m---> 35\u001b[1;33m         \u001b[0mwrapper\u001b[0m\u001b[1;33m.\u001b[0m\u001b[0m_repr_svg_\u001b[0m \u001b[1;33m=\u001b[0m \u001b[1;32mlambda\u001b[0m \u001b[1;33m:\u001b[0m \u001b[0mdisplay\u001b[0m\u001b[1;33m(\u001b[0m\u001b[0mdask\u001b[0m\u001b[1;33m.\u001b[0m\u001b[0mvisualize\u001b[0m\u001b[1;33m(\u001b[0m\u001b[0mdsk\u001b[0m\u001b[1;33m,\u001b[0m \u001b[0mrankdir\u001b[0m\u001b[1;33m=\u001b[0m\u001b[1;34m'LR'\u001b[0m\u001b[1;33m)\u001b[0m\u001b[1;33m)\u001b[0m\u001b[1;33m\u001b[0m\u001b[0m\n\u001b[0m\u001b[0;32m     36\u001b[0m         \u001b[1;32mreturn\u001b[0m \u001b[0mwrapper\u001b[0m\u001b[1;33m\u001b[0m\u001b[0m\n\u001b[0;32m     37\u001b[0m \u001b[1;33m\u001b[0m\u001b[0m\n",
      "\u001b[1;32m~\\Anaconda3\\lib\\site-packages\\dask\\base.py\u001b[0m in \u001b[0;36mvisualize\u001b[1;34m(*args, **kwargs)\u001b[0m\n\u001b[0;32m    255\u001b[0m     \u001b[0mfilename\u001b[0m \u001b[1;33m=\u001b[0m \u001b[0mkwargs\u001b[0m\u001b[1;33m.\u001b[0m\u001b[0mpop\u001b[0m\u001b[1;33m(\u001b[0m\u001b[1;34m'filename'\u001b[0m\u001b[1;33m,\u001b[0m \u001b[1;34m'mydask'\u001b[0m\u001b[1;33m)\u001b[0m\u001b[1;33m\u001b[0m\u001b[0m\n\u001b[0;32m    256\u001b[0m     \u001b[0moptimize_graph\u001b[0m \u001b[1;33m=\u001b[0m \u001b[0mkwargs\u001b[0m\u001b[1;33m.\u001b[0m\u001b[0mpop\u001b[0m\u001b[1;33m(\u001b[0m\u001b[1;34m'optimize_graph'\u001b[0m\u001b[1;33m,\u001b[0m \u001b[1;32mFalse\u001b[0m\u001b[1;33m)\u001b[0m\u001b[1;33m\u001b[0m\u001b[0m\n\u001b[1;32m--> 257\u001b[1;33m     \u001b[1;32mfrom\u001b[0m \u001b[0mdask\u001b[0m\u001b[1;33m.\u001b[0m\u001b[0mdot\u001b[0m \u001b[1;32mimport\u001b[0m \u001b[0mdot_graph\u001b[0m\u001b[1;33m\u001b[0m\u001b[0m\n\u001b[0m\u001b[0;32m    258\u001b[0m     \u001b[1;32mif\u001b[0m \u001b[0moptimize_graph\u001b[0m\u001b[1;33m:\u001b[0m\u001b[1;33m\u001b[0m\u001b[0m\n\u001b[0;32m    259\u001b[0m         dsks.extend([optimization_function(arg)(ensure_dict(arg.dask), arg._keys())\n",
      "\u001b[1;32m~\\Anaconda3\\lib\\site-packages\\dask\\dot.py\u001b[0m in \u001b[0;36m<module>\u001b[1;34m()\u001b[0m\n\u001b[0;32m     10\u001b[0m \u001b[1;33m\u001b[0m\u001b[0m\n\u001b[0;32m     11\u001b[0m \u001b[1;33m\u001b[0m\u001b[0m\n\u001b[1;32m---> 12\u001b[1;33m graphviz = import_required(\"graphviz\", \"Drawing dask graphs requires the \"\n\u001b[0m\u001b[0;32m     13\u001b[0m                                        \u001b[1;34m\"`graphviz` python library and the \"\u001b[0m\u001b[1;33m\u001b[0m\u001b[0m\n\u001b[0;32m     14\u001b[0m                                        \u001b[1;34m\"`graphviz` system library to be \"\u001b[0m\u001b[1;33m\u001b[0m\u001b[0m\n",
      "\u001b[1;32m~\\Anaconda3\\lib\\site-packages\\dask\\utils.py\u001b[0m in \u001b[0;36mimport_required\u001b[1;34m(mod_name, error_msg)\u001b[0m\n\u001b[0;32m     93\u001b[0m         \u001b[1;32mreturn\u001b[0m \u001b[0mimport_module\u001b[0m\u001b[1;33m(\u001b[0m\u001b[0mmod_name\u001b[0m\u001b[1;33m)\u001b[0m\u001b[1;33m\u001b[0m\u001b[0m\n\u001b[0;32m     94\u001b[0m     \u001b[1;32mexcept\u001b[0m \u001b[0mImportError\u001b[0m\u001b[1;33m:\u001b[0m\u001b[1;33m\u001b[0m\u001b[0m\n\u001b[1;32m---> 95\u001b[1;33m         \u001b[1;32mraise\u001b[0m \u001b[0mRuntimeError\u001b[0m\u001b[1;33m(\u001b[0m\u001b[0merror_msg\u001b[0m\u001b[1;33m)\u001b[0m\u001b[1;33m\u001b[0m\u001b[0m\n\u001b[0m\u001b[0;32m     96\u001b[0m \u001b[1;33m\u001b[0m\u001b[0m\n\u001b[0;32m     97\u001b[0m \u001b[1;33m\u001b[0m\u001b[0m\n",
      "\u001b[1;31mRuntimeError\u001b[0m: Drawing dask graphs requires the `graphviz` python library and the `graphviz` system library to be installed."
     ]
    },
    {
     "data": {
      "text/plain": [
       "<function __main__.my_model>"
      ]
     },
     "execution_count": 4,
     "metadata": {},
     "output_type": "execute_result"
    }
   ],
   "source": [
    "my_model"
   ]
  },
  {
   "cell_type": "markdown",
   "metadata": {},
   "source": [
    "Let's also inspect the dask graph corresponding to this function"
   ]
  },
  {
   "cell_type": "code",
   "execution_count": null,
   "metadata": {
    "collapsed": true
   },
   "outputs": [],
   "source": [
    "my_model.dsk"
   ]
  },
  {
   "cell_type": "markdown",
   "metadata": {},
   "source": [
    "## Merging graphs\n",
    "\n",
    "The above concept becomes useful when merging multiple functions together into larger dependency graphs or evolving components within existing graphs.\n",
    "\n",
    "To this end, we define a `join_graphs` function for merging two dask graphs"
   ]
  },
  {
   "cell_type": "code",
   "execution_count": null,
   "metadata": {
    "collapsed": true
   },
   "outputs": [],
   "source": [
    "def join_graphs(a, b):\n",
    "    \"\"\"Operation to join two dask graphs.\n",
    "    Where an output of one graphs matches an input to the other, a connection is created.\n",
    "    If both graphs declare the same output, an exception is raised.\n",
    "    \n",
    "    Args:\n",
    "        a, b: dask graphs to join\n",
    "    \n",
    "    Returns:\n",
    "        new dask graph, created from `a` and `b`\n",
    "    \n",
    "    Raises:\n",
    "        RuntimeError: if both graph define the same output\n",
    "    \"\"\"    \n",
    "    return dicttoolz.merge_with(merge_dask_values, a, b)"
   ]
  },
  {
   "cell_type": "code",
   "execution_count": null,
   "metadata": {
    "collapsed": true
   },
   "outputs": [],
   "source": [
    "def merge_dask_values(outputs):\n",
    "    \"\"\"Perform a merge of dask graph values\"\"\"\n",
    "    producers = list(filter(None, outputs))\n",
    "    if len(producers) == 0:\n",
    "        return None\n",
    "    elif len(producers) == 1:\n",
    "        return producers[0] \n",
    "    else:\n",
    "        raise RuntimeError('Conflict among producers') "
   ]
  },
  {
   "cell_type": "markdown",
   "metadata": {},
   "source": [
    "Now, let's add a second function, consuming 'BAR' and computing 'BAZ' from it"
   ]
  },
  {
   "cell_type": "code",
   "execution_count": null,
   "metadata": {
    "collapsed": true
   },
   "outputs": [],
   "source": [
    "@model(bar='BAR', output='BAZ')\n",
    "def another_model(bar):\n",
    "    \"\"\"Another sample model\n",
    "    \n",
    "    Args:\n",
    "        bar: value of 'BAR'\n",
    "        \n",
    "    Returns:\n",
    "        value of 'BAZ'\n",
    "    \"\"\"\n",
    "    return bar * 2"
   ]
  },
  {
   "cell_type": "code",
   "execution_count": null,
   "metadata": {
    "collapsed": true
   },
   "outputs": [],
   "source": [
    "another_model"
   ]
  },
  {
   "cell_type": "markdown",
   "metadata": {},
   "source": [
    "By joining the two, we get a dask graph with three keys, one of which is an input"
   ]
  },
  {
   "cell_type": "code",
   "execution_count": null,
   "metadata": {
    "collapsed": true
   },
   "outputs": [],
   "source": [
    "join_graphs(my_model.dsk, another_model.dsk)"
   ]
  },
  {
   "cell_type": "code",
   "execution_count": null,
   "metadata": {
    "collapsed": true
   },
   "outputs": [],
   "source": [
    "dask.visualize(join_graphs(my_model.dsk, another_model.dsk), rankdir='LR')"
   ]
  },
  {
   "cell_type": "markdown",
   "metadata": {},
   "source": [
    "## Adding data\n",
    "So far, the graph is entirely \"abstract\" and does not contain any actual values.\n",
    "In order to use it for a computation, we must \"initialize\" the input nodes with actual values from a given context.\n",
    "\n",
    "To that end, we add the concept of a \"loader\" function,"
   ]
  },
  {
   "cell_type": "code",
   "execution_count": null,
   "metadata": {
    "collapsed": true
   },
   "outputs": [],
   "source": [
    "def add_loader(dsk, loader):\n",
    "    \"\"\"Connects a loader function call to each input node in the graph.\n",
    "    \n",
    "    A `loader` is a callable taking a data label and returning its value.\n",
    "    \n",
    "    Args:\n",
    "        dsk: a dsk graph, where input nodes have value None\n",
    "        loader: a function responsible for loading and returning a value for a given key\n",
    "    \n",
    "    Returns:\n",
    "        a new dask graph with all \"free\" inputs connected to the loader function\n",
    "    \"\"\"\n",
    "    return {key: value if value else (functools.partial(loader, key), ) \n",
    "            for key,value in dsk.items()}"
   ]
  },
  {
   "cell_type": "code",
   "execution_count": null,
   "metadata": {
    "collapsed": true
   },
   "outputs": [],
   "source": [
    "def my_loader(key):\n",
    "    \"\"\"Sample loader function.\n",
    "    \n",
    "    In this example, we only expect to load the value of foo.\n",
    "    A \"real\" loader might read files, access a database or a service to retrieve the value of a given key\n",
    "    \"\"\"\n",
    "    assert key == 'FOO' \n",
    "    return 42"
   ]
  },
  {
   "cell_type": "code",
   "execution_count": null,
   "metadata": {
    "collapsed": true
   },
   "outputs": [],
   "source": [
    "final_graph = add_loader(join_graphs(my_model.dsk, another_model.dsk), my_loader)"
   ]
  },
  {
   "cell_type": "code",
   "execution_count": null,
   "metadata": {
    "collapsed": true
   },
   "outputs": [],
   "source": [
    "dask.visualize(final_graph, rankdir='LR')"
   ]
  },
  {
   "cell_type": "markdown",
   "metadata": {},
   "source": [
    "## Execution\n",
    "When a graph has no \"free\" input nodes, it can be executed"
   ]
  },
  {
   "cell_type": "code",
   "execution_count": null,
   "metadata": {
    "collapsed": true
   },
   "outputs": [],
   "source": [
    "dask.get(final_graph, 'BAZ')  # expecting (42 + 1) * 2 = 86"
   ]
  },
  {
   "cell_type": "markdown",
   "metadata": {},
   "source": [
    "## Summary\n",
    "Clearly, such a trivial example hardly requires automated graph creation.\n",
    "But the same principle can easily scale up to graphs of 100s or 1000s of functions, developed and tested individually and independently, while leveraging all the parallel execution and caching goodness of `dask`.\n",
    "\n",
    "Example graph:"
   ]
  },
  {
   "cell_type": "markdown",
   "metadata": {},
   "source": [
    "![example](dot-1024.png)"
   ]
  }
 ],
 "metadata": {
  "kernelspec": {
   "display_name": "Python 3",
   "language": "python",
   "name": "python3"
  },
  "language_info": {
   "codemirror_mode": {
    "name": "ipython",
    "version": 3
   },
   "file_extension": ".py",
   "mimetype": "text/x-python",
   "name": "python",
   "nbconvert_exporter": "python",
   "pygments_lexer": "ipython3",
   "version": "3.6.2"
  }
 },
 "nbformat": 4,
 "nbformat_minor": 2
}
